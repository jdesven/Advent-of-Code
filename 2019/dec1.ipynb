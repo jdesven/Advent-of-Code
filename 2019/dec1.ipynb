{
 "cells": [
  {
   "cell_type": "markdown",
   "metadata": {},
   "source": [
    "[Link to puzzle](https://adventofcode.com/2019/day/1)\n",
    "## Pre-processing\n",
    "\n",
    "We import the data from the input file and save the numbers as a `list` of `int`."
   ]
  },
  {
   "cell_type": "code",
   "execution_count": 1,
   "metadata": {},
   "outputs": [],
   "source": [
    "with open('input/dec1_input.txt', 'r') as file:\n",
    "    masses = [int(num) for num in file.read().splitlines()]"
   ]
  },
  {
   "cell_type": "markdown",
   "metadata": {},
   "source": [
    "## Solution\n",
    "\n",
    "The answer to the first question is found by calculating the fuel mass requirement per module mass, and summing the results.\n",
    "\n",
    "For the answer to the second question, we additionally calculate the fuel mass requirement of the mass we just added, and we keep doing this until that mass is negative. Since we only need the mass of all modules combined, we do not have to store the fuel mass requirement per module."
   ]
  },
  {
   "cell_type": "code",
   "execution_count": null,
   "metadata": {},
   "outputs": [],
   "source": [
    "fuel_requirements = [int(mass / 3) - 2 for mass in masses]\n",
    "print(sum(fuel_requirements))\n",
    "\n",
    "total_mass = 0\n",
    "for mass in masses:\n",
    "    last_fuel_addition = int(mass / 3) - 2\n",
    "    total_mass += last_fuel_addition\n",
    "    while last_fuel_addition > 0:\n",
    "        last_fuel_addition = int(last_fuel_addition / 3) - 2\n",
    "        total_mass += max(last_fuel_addition, 0)\n",
    "print(total_mass)"
   ]
  }
 ],
 "metadata": {
  "kernelspec": {
   "display_name": "Python 3",
   "language": "python",
   "name": "python3"
  },
  "language_info": {
   "codemirror_mode": {
    "name": "ipython",
    "version": 3
   },
   "file_extension": ".py",
   "mimetype": "text/x-python",
   "name": "python",
   "nbconvert_exporter": "python",
   "pygments_lexer": "ipython3",
   "version": "3.11.9"
  }
 },
 "nbformat": 4,
 "nbformat_minor": 2
}
