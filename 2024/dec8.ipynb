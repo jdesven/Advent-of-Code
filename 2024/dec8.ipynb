{
 "cells": [
  {
   "cell_type": "markdown",
   "metadata": {},
   "source": [
    "[Link to puzzle](https://adventofcode.com/2024/day/8)\n",
    "## Introduction\n",
    "\n",
    "Finding the efficient solution to a problem involving a grid usually boils down to minimizing the amount of times this grid needs to be iterated over. The solution to this puzzle sees every grid position only once, while making sure that it retains all the neccesary information to calculate the positions of the antinodes.\n",
    "\n",
    "The solution starts with an import of the input, and converting this text file to a `numpy.ndarray` using `np.loadtxt()`. This two-dimensional array allows for easy use of (x,y) coordinates."
   ]
  },
  {
   "cell_type": "code",
   "execution_count": 3,
   "metadata": {},
   "outputs": [],
   "source": [
    "import numpy as np\n",
    "\n",
    "map = np.array([list(line) for line in np.loadtxt('input/dec8_input.txt', dtype = str, comments = None)])"
   ]
  },
  {
   "cell_type": "markdown",
   "metadata": {},
   "source": [
    "## Pre-processing\n",
    "\n",
    "By making lists of antenna coordinates grouped by antenna frequencies, we can calculate the positions of antinodes formed by all possible combinations of antennas of one frequency. To do so, we first need to create an array `chars` that maps an integer index to every unique antenna frequency. Then, we loop over every position in the grid, and save every antenna coordinate in the array that has the index that corresponds to the antenna frequency. This create a array of arrays `coords_per_char` where every inner array represents to coordinates of one antenna frequency.\n",
    "\n",
    "Using these combinations, we are able to calculate the positions of all antinodes caused by the antenna positions. Note that we have only looped over the coordinates of the map once."
   ]
  },
  {
   "cell_type": "code",
   "execution_count": 4,
   "metadata": {},
   "outputs": [],
   "source": [
    "chars = np.unique(map[map != '.'].flatten())\n",
    "coords_per_char = []\n",
    "for i in range(len(chars)):\n",
    "    coords_per_char.append([])\n",
    "for y in range(len(map)):\n",
    "    for x in range(len(map[0])):\n",
    "        if map[y][x] != '.':\n",
    "            coords_per_char[np.where(chars == map[y][x])[0][0]].append([x, y])"
   ]
  },
  {
   "cell_type": "markdown",
   "metadata": {},
   "source": [
    "## Puzzle part 1\n",
    "\n",
    "Using `itertools.combinations`, we are able to find all combinations of two antenna positions of the same frequency. For every combination, we then calculate the [relative position vector](https://en.wikipedia.org/wiki/Position_(geometry)#Relative_position) `pos_diff` of the two antenna coordinates. By subtracting the relative position from one of the antenna positions, we find the position where the distance to one antenna is exactly twice the distance to the second antenna - i.e. an antinode. We add these positions to the list of antinodes `antinodes`, after making sure that the found antinode is within the boundaries of the map. By counting the amount of unique antinode positions in this list, we find the solution to the first puzzle part.\n",
    "\n",
    "> Note that we transform the list `antinode` to an array _after_ we have calculated all antinode positions. Since we individually append every antinode position to `antinode`, every iteration would otherwise result in a full reallocation of the array."
   ]
  },
  {
   "cell_type": "code",
   "execution_count": null,
   "metadata": {},
   "outputs": [],
   "source": [
    "from itertools import combinations\n",
    "\n",
    "antinodes = []\n",
    "for char in coords_per_char:\n",
    "    coords_combinations = list(combinations(char, 2))\n",
    "    for coords_combination in coords_combinations:\n",
    "        pos_diff = np.subtract(coords_combination[0], coords_combination[1])\n",
    "        for antinode in [np.add(coords_combination[0], pos_diff), np.subtract(coords_combination[1], pos_diff)]:\n",
    "            if 0 <= antinode[0] < len(map[0]) and 0 <= antinode[1] < len(map):\n",
    "                antinodes.append(antinode)\n",
    "antinodes = np.unique(np.array(antinodes), axis = 0)\n",
    "print(len(antinodes))"
   ]
  },
  {
   "cell_type": "markdown",
   "metadata": {},
   "source": [
    "An important note to mention here is that there is a hypothetical situation where the above approach would fail. When the antinode is positioned in between the two antennas - for example in the situation `A.#...A` where `A` represent the antennas and `#` represents the antinode - then this antinode would not be picked up on using the relative position vector method. Incidentally, no such situations are present in the puzzle input, so the solution holds true.\n",
    "\n",
    "## Puzzle part 2\n",
    "\n",
    "To account for resonant harmonics, we multiply the relative position vector `pos_diff` with any integer `mul` that produces a position that is still within the boundaries of the map. Note that `mul` can also be 0, since a resonant harmonic can also occur on an antenna. We do not have to do this for both antenna positions of the combination, since either calculation using this approach results in the same list of antinode coordinates. Since it is initially unknown how many integer multiplications fit within the boundaries of the map, we use two `while` loops that loop from 0 to negative and positive infinity, respectively, until we find an antinode that lies outside of the boundaries of the map.\n",
    "\n",
    "This approach breaks down when the coordinates of the relative position vector have a [greatest common divisor](https://en.wikipedia.org/wiki/Greatest_common_divisor) (GCD) larger than 1. For example, when one antenna is located at (0,0) and one antenna at (2,2), we only find the resonant harmonics of (4,4), (6,6), (...), whereas the resonant harmonics of (3,3), (5,5), (...) would also satisfy the given definition. To account for this, we divide the coordinates of the relative position vector (2,2) by their GCD (2), such that we receive the reduced relative position vector `pos_fidd_gcd`, in this example equal to (1,1). However, as it turns out, the puzzle input produces no relative position vectors with GCDs larger than 1, so we would have received the correct answer either way."
   ]
  },
  {
   "cell_type": "code",
   "execution_count": null,
   "metadata": {},
   "outputs": [],
   "source": [
    "from itertools import combinations\n",
    "\n",
    "antinodes = []\n",
    "for char in coords_per_char:\n",
    "    coords_combinations = np.array(list(combinations(char, 2)))\n",
    "    for coords_combination in coords_combinations:\n",
    "        pos_diff = np.subtract(coords_combination[0], coords_combination[1])\n",
    "        pos_diff_gcd = np.divide(pos_diff, np.gcd.reduce(pos_diff))\n",
    "        antinode = coords_combination[0]\n",
    "        mul = 0\n",
    "        while 0 <= antinode[0] < len(map[0]) and 0 <= antinode[1] < len(map):\n",
    "            antinodes.append(antinode)\n",
    "            mul -= 1\n",
    "            antinode = np.add(coords_combination[0], np.multiply(pos_diff,mul))\n",
    "        antinode = coords_combination[0]\n",
    "        mul = 0\n",
    "        while 0 <= antinode[0] < len(map[0]) and 0 <= antinode[1] < len(map):\n",
    "            antinodes.append(antinode)\n",
    "            mul += 1\n",
    "            antinode = np.add(coords_combination[0], np.multiply(pos_diff,mul))\n",
    "antinodes = np.unique(np.array(antinodes), axis = 0)\n",
    "print(len(antinodes))"
   ]
  }
 ],
 "metadata": {
  "kernelspec": {
   "display_name": "Python 3",
   "language": "python",
   "name": "python3"
  },
  "language_info": {
   "codemirror_mode": {
    "name": "ipython",
    "version": 3
   },
   "file_extension": ".py",
   "mimetype": "text/x-python",
   "name": "python",
   "nbconvert_exporter": "python",
   "pygments_lexer": "ipython3",
   "version": "3.11.9"
  }
 },
 "nbformat": 4,
 "nbformat_minor": 2
}
