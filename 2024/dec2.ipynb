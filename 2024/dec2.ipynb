{
 "cells": [
  {
   "cell_type": "markdown",
   "metadata": {},
   "source": [
    "[Link to puzzle](https://adventofcode.com/2024/day/2)\n",
    "## Pre-processing\n",
    "\n",
    "The data is imported from the input file and formatted into a list of list, where every inner list represents one report."
   ]
  },
  {
   "cell_type": "code",
   "execution_count": 16,
   "metadata": {},
   "outputs": [],
   "source": [
    "with open('2024/input/dec2_input.txt', 'r') as file:\n",
    "    nums = [list(map(int,(line))) for line in[row.split(' ') for row in file.read().splitlines()]]"
   ]
  },
  {
   "cell_type": "markdown",
   "metadata": {},
   "source": [
    "## Solution\n",
    "\n",
    "A report is safe, unless we determine that it is not. \n",
    "\n",
    "First we determine if the levels in the report are ascending or descending, by looking at the first two numbers in the report. Then, three checks are done for every level in the report. If any of these conditions hold true, then the whole report is considered unsafe.\n",
    "\n",
    "1. If the report has ascending levels but it contains a level where the level is higher or equal than the level that follows it, then the report is unsafe.\n",
    "1. If the report has descending levels but it contains a level where the level is lower or equal than the level that follows it, then the report is unsafe.\n",
    "3. If the report contains a level where the level differs more than three from the next level, then the report is unsafe.\n",
    "\n",
    "If none of these conditions apply for any of the levels in the report, then the report is safe.\n",
    "\n",
    "The answer to the first question is equal to the amount of reports where no unsafe level is found."
   ]
  },
  {
   "cell_type": "code",
   "execution_count": null,
   "metadata": {},
   "outputs": [],
   "source": [
    "def test_if_safe(row):\n",
    "    is_safe = True\n",
    "    asc_desc_factor = 'asc' if row[0] < row[1] else 'desc'\n",
    "    for j in range(len(row) - 1):\n",
    "        if (asc_desc_factor == 'asc' and row[j] >= row[j + 1]) or (asc_desc_factor == 'desc' and row[j] <= row[j + 1]) or (abs(row[j] - row[j + 1]) > 3):\n",
    "            is_safe = False\n",
    "    return is_safe\n",
    "\n",
    "print(len([row for row in nums if test_if_safe(row) == True]))"
   ]
  },
  {
   "cell_type": "markdown",
   "metadata": {},
   "source": [
    "The answer to the second question uses the test function from question 1. Instead of evaluating the full report itself, we consider all possible reports that would follow from the original report if we remove one level from the report. If any of these altered reports is safe, then the removal of one unsafe level is enough to make the report safe.\n",
    "\n",
    "When a report is already safe without alterations, then the removal of either the first or last level in the report will never cause the altered report to become unsafe. Hence, we do not need to take already-safe reports into account."
   ]
  },
  {
   "cell_type": "code",
   "execution_count": null,
   "metadata": {},
   "outputs": [],
   "source": [
    "print(len([row for row in nums if len([j for j in range(len(row)) if test_if_safe(row[:j] + row[j+1:]) == True]) > 0]))"
   ]
  }
 ],
 "metadata": {
  "kernelspec": {
   "display_name": "Python 3",
   "language": "python",
   "name": "python3"
  },
  "language_info": {
   "codemirror_mode": {
    "name": "ipython",
    "version": 3
   },
   "file_extension": ".py",
   "mimetype": "text/x-python",
   "name": "python",
   "nbconvert_exporter": "python",
   "pygments_lexer": "ipython3",
   "version": "3.11.9"
  }
 },
 "nbformat": 4,
 "nbformat_minor": 2
}
