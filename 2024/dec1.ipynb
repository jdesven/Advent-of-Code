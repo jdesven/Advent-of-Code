{
 "cells": [
  {
   "cell_type": "markdown",
   "metadata": {},
   "source": [
    "[Link to puzzle](https://adventofcode.com/2024/day/1)\n",
    "## Pre-processing\n",
    "\n",
    "We start by importing the data from the source file and fitting this sequence of numbers into a list of rows. We then split this input into a left column and a right column, each creating a list of integers. These lists are then sorted."
   ]
  },
  {
   "cell_type": "code",
   "execution_count": null,
   "metadata": {},
   "outputs": [],
   "source": [
    "with open('input/dec1_input.txt', 'r') as file:\n",
    "    nums = [[int(num.split('   ')[0]), int(num.split('   ')[1])] for num in [nums for nums in file.read().splitlines()]]\n",
    "\n",
    "nums_left = sorted([row[0] for row in nums])\n",
    "nums_right = sorted([row[1] for row in nums])"
   ]
  },
  {
   "cell_type": "markdown",
   "metadata": {},
   "source": [
    "## Solution\n",
    "\n",
    "The answer to the first question is found by summing the differences between the sorted left and right columns.\n",
    "\n",
    "The answer to the second question is found by summing the products of the left column numbers with the number of times this number appears in the right column, using the `list.count()` function."
   ]
  },
  {
   "cell_type": "code",
   "execution_count": null,
   "metadata": {},
   "outputs": [],
   "source": [
    "differences = [abs(nums_left[i] - nums_right[i]) for i in range(len(nums))]\n",
    "print(sum(differences))\n",
    "\n",
    "similarity_scores = [nums_left[i] * nums_right.count(nums_left[i]) for i in range(len(nums))]\n",
    "print(sum(similarity_scores))"
   ]
  }
 ],
 "metadata": {
  "kernelspec": {
   "display_name": "Python 3",
   "language": "python",
   "name": "python3"
  },
  "language_info": {
   "codemirror_mode": {
    "name": "ipython",
    "version": 3
   },
   "file_extension": ".py",
   "mimetype": "text/x-python",
   "name": "python",
   "nbconvert_exporter": "python",
   "pygments_lexer": "ipython3",
   "version": "3.11.9"
  }
 },
 "nbformat": 4,
 "nbformat_minor": 2
}
